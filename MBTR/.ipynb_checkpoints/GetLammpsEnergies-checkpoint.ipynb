{
 "cells": [
  {
   "cell_type": "markdown",
   "metadata": {},
   "source": [
    "# Test MBTR predicting ground state energies of binary systems using KRR "
   ]
  },
  {
   "cell_type": "code",
   "execution_count": 1,
   "metadata": {
    "collapsed": true
   },
   "outputs": [],
   "source": [
    "import quippy\n",
    "from lammpslib import LAMMPSlib\n",
    "from aflow import *\n",
    "import os\n",
    "from os.path import isfile, join\n",
    "import numpy as np\n",
    "import collections\n",
    "import matplotlib.pyplot as plt\n",
    "import h5py\n",
    "import itertools\n",
    "import sys\n",
    "from ase.optimize import BFGS, BFGSLineSearch\n",
    "from ase.optimize.precon import PreconLBFGS\n",
    "from tqdm import tqdm"
   ]
  },
  {
   "cell_type": "code",
   "execution_count": 2,
   "metadata": {
    "collapsed": true
   },
   "outputs": [],
   "source": [
    "def GetBinarySystem(arg1,arg2):\n",
    "    '''\n",
    "    Atomic Simulation Environment (ASE.py) and QUIPPY require information such as the atomic mass, number, etc.. \n",
    "    of the elements of a given system to create an atoms object and compute: energy, position, etc...\n",
    "    \n",
    "    This function takes as input the elements of the binary system chosen, selects the appropriate data from the \n",
    "    dictionary and returns a list of these values for use with quippy, lammps and ase.\n",
    "    \n",
    "    Example: \n",
    "        \n",
    "        GetBinarySystem('Al','Ni')\n",
    "        \n",
    "    Result: ['Al', 'Ni', 26.9815, 58.6934, 13, 28]\n",
    "        \n",
    "    '''\n",
    "\n",
    "    # The dictionary of all the elements on the periodic table\n",
    "    elements ={\"H\":3.75,\"AtomicMassH\": 1.0079,\"AtomicNumH\": 1,\"He\": 3.57,\"AtomicMassHe\":4.0026,\"AtomicNumHe\":2, \n",
    "               \"Li\":3.49,\"AtomicMassLi\":6.941,\"AtomicNumLi\":3,\"Be\":2.29,\"AtomicMassBe\":9.0122,\"AtomicNumBe\":4,\n",
    "               \"B\":8.73,\"AtomicMassB\":10.811,\"AtomicNumB\":5,\"C\": 3.57,\"AtomicMassC\":12.0107,\"AtomicNumC\":6, \n",
    "               \"N\":4.039,\"AtomicMassN\":14.0067,\"AtomicNumN\":7,\"O\":6.83,\"AtomicMassO\":15.9994,\"AtomicNumO\":8,\n",
    "               \"Ne\":4.43,\"AtomicMassNe\":20.1797,\"AtomicNumNe\":10,\"Na\":4.23,\"AtomicMassNa\":22.9897,\"AtomicNumNa\":11,\n",
    "               \"Mg\":3.21,\"AtomicMassMg\":24.305,\"AtomicNumMg\":12,\"Al\":4.05,\"AtomicMassAl\":26.9815,\"AtomicNumAl\":13,\n",
    "               \"Si\":5.43,\"AtomicMassSi\":28.0855,\"AtomicNumSi\":14,\"P\":7.17,\"AtomicMassP\":30.9738,\"AtomicNumP\":15,\n",
    "               \"S\":10.47,\"AtomicMassS\":32.065,\"AtomicNumS\":16,\"Cl\":6.24,\"AtomicMassCl\":35.453,\"AtomicNumCl\":17,\n",
    "               \"Ar\":5.26,\"AtomicMassAr\":39.948,\"AtomicNumAr\":18,\"K\":5.23,\"AtomicMassK\":39.0983,\"AtomicNumK\":19, \n",
    "               \"Ca\":5.58,\"AtomicMassCa\":40.078,\"AtomicNumCa\":20,\"Sc\":3.31,\"AtomicMassSc\":44.9559,\"AtomicNumSc\":21,\n",
    "               \"Ti\":2.95,\"AtomicMassTi\":47.867,\"AtomicNumTi\":22,\"V\":3.02,\"AtomicMassV\":50.9415,\"AtomicNumV\":23, \n",
    "               \"Cr\":2.88,\"AtomicMassCr\":51.9961,\"AtomicNumCr\":24,\"Mn\":8.89,\"AtomicMassMn\":54.938,\"AtomicNumMn\":25,\n",
    "               \"Fe\":2.87,\"AtomicMassFe\":55.845,\"AtomicNumFe\":26,\"Co\":2.51,\"AtomicMassCo\":58.9332,\"AtomicNumCo\":27,\n",
    "               \"Ni\":3.52,\"AtomicMassNi\":58.6934,\"AtomicNumNi\":28,\"Cu\":3.61,\"AtomicMassCu\":63.546,\"AtomicNumCu\":29,\n",
    "               \"Zn\":2.66,\"AtomicMassZn\":65.39,\"AtomicNumZn\":30,\"Ga\":4.51,\"AtomicMassGa\":69.723,\"AtomicNumGa\":31,\n",
    "               \"Ge\":5.66,\"AtomicMassGe\":72.64,\"AtomicNumGe\":32,\"As\":4.13,\"AtomicMassAs\":74.9216,\"AtomicNumAs\":33,\n",
    "               \"Se\":4.36,\"AtomicMassSe\":78.96,\"AtomicNumSe\":34,\"Br\":6.67,\"AtomicMassBr\":79.904,\"AtomicNumBr\":35, \n",
    "               \"Kr\":5.72,\"AtomicMassKr\":83.8,\"AtomicNumKr\":36,\"Rb\":5.59,\"AtomicMassRb\":85.4678,\"AtomicNumRb\":37, \n",
    "               \"Sr\":6.08,\"AtomicMassSr\":87.62,\"AtomicNumSr\":38,\"Y\":3.65,\"AtomicMassY\":88.9059,\"AtomicNumY\":39, \n",
    "               \"Zr\":3.23,\"AtomicMassZr\":91.224,\"AtomicNumZr\":40,\"Nb\":3.3,\"AtomicMassNb\":92.9064,\"AtomicNumNb\":41,\n",
    "               \"Mo\":3.15,\"AtomicMassMo\":95.94,\"AtomicNumMo\":42,\"Tc\":2.74,\"AtomicMassTc\":98,\"AtomicNumTc\":43, \n",
    "               \"Ru\":2.7,\"AtomicMassRu\":101.07,\"AtomicNumRu\":44,\"Rh\":3.8,\"AtomicMassRh\":102.9055,\"AtomicNumRh\":45,\n",
    "               \"Pd\":3.89,\"AtomicMassPd\":106.42,\"AtomicNumPd\":46,\"Ag\":4.09,\"AtomicMassAg\":107.8682,\"AtomicNumAg\":47, \n",
    "               \"Cd\":2.98,\"AtomicMassCd\":112.411,\"AtomicNumCd\":48,\"In\":4.59,\"AtomicMassIn\":114.818,\"AtomicNumIn\":49, \n",
    "               \"Sn\":5.82,\"AtomicMassSn\":118.71,\"AtomicNumSn\":50,\"Sb\":4.51,\"AtomicMassSb\":121.76,\"AtomicNumSb\":51,\n",
    "               \"Te\":4.45,\"AtomicMassTe\":127.6,\"AtomicNumTe\":52,\"I\":7.27,\"AtomicMassI\":126.9045,\"AtomicNumI\":53, \n",
    "               \"Xe\":6.2,\"AtomicMassXe\":131.293,\"AtomicNumXe\":54,\"Cs\":6.05,\"AtomicMassCs\":132.9055,\"AtomicNumCs\":55,\n",
    "               \"Ba\":5.02,\"AtomicMassBa\":137.327,\"AtomicNumBa\":56,\"Hf\":3.2,\"AtomicMassHf\":178.49,\"AtomicNumHf\":72,\n",
    "               \"Ta\":3.31,\"AtomicMassTa\":180.9479,\"AtomicNumTa\":73,\"W\":3.16,\"AtomicMassW\":183.84,\"AtomicNumW\":74,\n",
    "               \"Re\":2.76,\"AtomicMassRe\":186.207,\"AtomicNumRe\":75,\"Os\":2.64,\"AtomicMassOs\":190.23,\"AtomicNumOs\":76,\n",
    "               \"Ir\":3.84,\"AtomicMassIr\":192.217,\"AtomicNumIr\":77,\"Pt\":3.92,\"AtomicMassPt\":195.078,\"AtomicNumPt\":78,\n",
    "               \"Au\":4.08,\"AtomicMassAu\":196.9665,\"AtomicNumAu\":79,\"Hg\":2.99,\"AtomicMassHg\":200.59,\"AtomicNumHg\":80,\n",
    "               \"Tl\":3.46,\"AtomicMassTl\":204.3833,\"AtomicNumTl\":81,\"Pb\":4.95,\"AtomicMassPb\":207.2,\"AtomicNumPb\":82,\n",
    "               \"Bi\":4.75,\"AtomicMassBi\":208.9804,\"AtomicNumBi\":83,\"Sm\":3.62,\"AtomicMassSm\":150.36,\"AtomicNumSm\":62} \n",
    "\n",
    "    element1=\"%s\"%(arg1) #(e.g. Al) Get the element name from the arguments.\n",
    "    element2=\"%s\"%(arg2)\n",
    "    mass1=\"AtomicMass%s\"%(arg1) #(e.g. 26.9815) Get the atomic mass of the first element.\n",
    "    mass2=\"AtomicMass%s\"%(arg2)\n",
    "    number1=\"AtomicNum%s\"%(arg1) #(e.g. 13) Get the atomic number of the first element.\n",
    "    number2=\"AtomicNum%s\"%(arg2)\n",
    "    #A list of the important atomic information for the given elements.\n",
    "    system = [element1,element2,elements[mass1],elements[mass2],elements[number1],elements[number2]]\n",
    "    return system"
   ]
  },
  {
   "cell_type": "code",
   "execution_count": 3,
   "metadata": {
    "collapsed": true
   },
   "outputs": [],
   "source": [
    "def readAllVASPFilesUnrelaxed(paths,potential,AtomicNum, numStrucToRead=50): #Unrelaxed Only    \n",
    "    AtomicNumA=AtomicNum[0]\n",
    "    AtomicNumB=AtomicNum[1]  \n",
    "\n",
    "    res_z=[] # nuclear charge\n",
    "    res_pos=[]# unrelaxed positions (cartesian)\n",
    "    res_lattice=[]# lattice vectors\n",
    "    res_totEnePerAtom=[] # total energy per atom\n",
    "    res_structInfo=[] # file name of vasp structure\n",
    "    res_conc=[] # concentration\n",
    "    \n",
    "    res_forces=[] # forces obtained after relaxation\n",
    "    res_rel_pos=[] # relaxed positions (cartesian)\n",
    "    res_rel_ene=[] # relaxed total energy per atom\n",
    "\n",
    "    res={}\n",
    "\n",
    "    for path in paths:\n",
    "        \n",
    "        lst=os.listdir(path)\n",
    "        lst.sort()\n",
    "        for i,f  in enumerate(tqdm(lst)):\n",
    "            if(i<numStrucToRead):\n",
    "                inpFile=join(path,f) # get the file name\n",
    "\n",
    "                a = quippy.Atoms(inpFile, format=\"vasp\") # read the input file as quippy object \n",
    "\n",
    "                #atomsList.append(a)\n",
    "                res_z.append(list(a.z)) # get nuclear charge\n",
    "                res_lattice.append(np.array(a.get_cell()))  # get lattice vectors\n",
    "                conc=a.z.tolist().count(AtomicNumB)/float(len(a.z)) # get the concentration.\n",
    "                res_conc.append(conc)\n",
    "                res_structInfo.append(path[-4::]+str(f)) # structure information a.k.a file name.\n",
    "\n",
    "                # Computing unrelaxed energies\n",
    "                a.set_calculator(potential)\n",
    "                res_pos.append(np.array(a.get_positions())) # get unrelaxed positions in cartesian\n",
    "                totalNumOfAtoms=len(a.z) # total number of atoms\n",
    "                res_totEnePerAtom.append(a.get_total_energy()/float(len(a.z))) # compute total energy per atom\n",
    "\n",
    "                res_forces.append(a.get_total_energy())\n",
    "                \n",
    "    res={'structInfo':np.array(res_structInfo),'z':np.array(res_z),'un_pos':np.array(res_pos),'lattice':np.array(res_lattice),'un_TEPA':np.array(res_totEnePerAtom),'forces':np.array(res_forces), 'conc':np.array(res_conc)}\n",
    "\n",
    "    return res #,atomsList"
   ]
  },
  {
   "cell_type": "code",
   "execution_count": 4,
   "metadata": {
    "collapsed": true
   },
   "outputs": [],
   "source": [
    "def readAllVASPFilesRelaxedToo(paths,potential,AtomicNum, numStrucToRead=50): #Relaxed and Unrelaxed\n",
    "    AtomicNumA=AtomicNum[0]\n",
    "    AtomicNumB=AtomicNum[1]\n",
    "    \n",
    "\n",
    "    res_z=[] # nuclear charge\n",
    "    res_pos=[]# unrelaxed positions (cartesian)\n",
    "    res_lattice=[]# lattice vectors\n",
    "    res_totEnePerAtom=[] # total energy per atom\n",
    "    res_structInfo=[] # file name of vasp structure\n",
    "    res_conc=[] # concentration\n",
    "    \n",
    "    res_forces=[] # forces obtained after relaxation\n",
    "    res_rel_pos=[] # relaxed positions (cartesian)\n",
    "    res_rel_ene=[] # relaxed total energy per atom\n",
    "\n",
    "    res={}\n",
    "\n",
    "    for path in paths:\n",
    "        \n",
    "        lst=os.listdir(path)\n",
    "        lst.sort()\n",
    "        for i,f  in enumerate(tqdm(lst)):\n",
    "            if(i<numStrucToRead):\n",
    "                inpFile=join(path,f) # get the file name\n",
    "\n",
    "                a = quippy.Atoms(inpFile, format=\"vasp\") # read the input file as quippy object \n",
    "\n",
    "                #atomsList.append(a)\n",
    "                res_z.append(list(a.z)) # get nuclear charge\n",
    "                res_lattice.append(np.array(a.get_cell()))  # get lattice vectors\n",
    "                conc=a.z.tolist().count(AtomicNumB)/float(len(a.z)) # get the concentration.\n",
    "                res_conc.append(conc)\n",
    "                res_structInfo.append(path[-4::]+str(f)) # structure information a.k.a file name.\n",
    "\n",
    "                # Computing unrelaxed energies\n",
    "                a.set_calculator(potential)\n",
    "                res_pos.append(np.array(a.get_positions())) # get unrelaxed positions in cartesian\n",
    "                totalNumOfAtoms=len(a.z) # total number of atoms\n",
    "                res_totEnePerAtom.append(a.get_total_energy()/float(len(a.z))) # compute total energy per atom\n",
    "\n",
    "                opt = BFGSLineSearch(a, logfile=None)\n",
    "                opt.run(fmax=1e-5)\n",
    "                res_rel_pos.append(a.get_positions()) # get relaxed positions in cartesian\n",
    "                res_forces.append(a.get_total_energy())\n",
    "                res_rel_ene.append(a.get_total_energy()/float(len(a.z))) # compute total energy per atom\n",
    "                \n",
    "    res={'structInfo':np.array(res_structInfo),'z':np.array(res_z),'un_pos':np.array(res_pos),'rel_pos':np.array(res_rel_pos),'lattice':np.array(res_lattice),'un_TEPA':np.array(res_totEnePerAtom),'rel_TEPA':np.array(res_rel_ene),'forces':np.array(res_forces), 'conc':np.array(res_conc)}\n",
    "\n",
    "    return res #,atomsList"
   ]
  },
  {
   "cell_type": "code",
   "execution_count": 5,
   "metadata": {},
   "outputs": [],
   "source": [
    "arg1,arg2,arg3=\"Al\",\"Ti\",\"alloy\"\n",
    "system = GetBinarySystem(arg1, arg2)\n",
    "\n",
    "# loading the interatomic potential.\n",
    "header = [\"units metal\",\n",
    "          \"dimension 3\",\n",
    "          \"boundary p p p\",\n",
    "          \"atom_style atomic\",\n",
    "          \"atom_modify map array\"]\n",
    "cmds = [\"pair_style eam/%s\"%(arg3),\n",
    "        \"pair_coeff * * %s/eam_potentials/%s-%s.eam.%s %s %s\"%(os.getcwd(), system[0],system[1], arg3, system[0],system[1]),\n",
    "        \"mass 1 %s\"%(system[2]),\n",
    "        \"mass 2 %s\"%(system[3]),\n",
    "        \"neighbor 2.0 bin\",\n",
    "        \"neigh_modify delay 10 check yes\"]\n",
    "\n",
    "pot = LAMMPSlib(lmpcmds=cmds, atom_types={\"%s\"%(system[0]): 1, \"%s\"%(system[1]): 2},\n",
    "                lammps_header=header, keep_alive=True)\n",
    "\n",
    "pathToDirectories=os.getcwd()+str('/Structures_EAM') #remove MBTR path later\n",
    "b=\"%s%s\"%(system[0],system[1])\n",
    "folders=[pathToDirectories+str(i) for i in ['/Structures_%s/fcc/'%(b),'/Structures_%s/bcc/'%(b),'/Structures_%s/hcp/'%(b)]]\n",
    "\n"
   ]
  },
  {
   "cell_type": "code",
   "execution_count": 6,
   "metadata": {},
   "outputs": [
    {
     "name": "stderr",
     "output_type": "stream",
     "text": [
      "100%|██████████| 2500/2500 [00:00<00:00, 2735.31it/s]\n"
     ]
    }
   ],
   "source": [
    "dataUnrelaxed=readAllVASPFilesUnrelaxed([folders[0]],potential=pot,AtomicNum=[int(system[4]), int(system[5])])"
   ]
  },
  {
   "cell_type": "code",
   "execution_count": 7,
   "metadata": {},
   "outputs": [
    {
     "name": "stderr",
     "output_type": "stream",
     "text": [
      "100%|██████████| 2500/2500 [00:12<00:00, 199.06it/s]\n"
     ]
    }
   ],
   "source": [
    "dataAll=readAllVASPFilesRelaxedToo([folders[0]],potential=pot,AtomicNum=[int(system[4]), int(system[5])])"
   ]
  },
  {
   "cell_type": "code",
   "execution_count": 10,
   "metadata": {},
   "outputs": [
    {
     "name": "stdout",
     "output_type": "stream",
     "text": [
      "[-3.36000003  0.63993119 -2.12955914 -2.21022098 -2.11166679 -2.12946969\n",
      " -2.05181141 -2.07058718 -2.21126149 -2.04679539 -0.19968292  0.31618946\n",
      " -3.59724847  0.55876965  0.53974678  0.45593504  0.0043758   0.74944001\n",
      "  0.91017938  0.79024367  0.97280722  0.22759226  0.84046449 -3.64156217\n",
      "  0.53109285  0.79733622 -3.65473487 -3.6915609  -3.69332649 -3.68651417\n",
      "  0.54462246 -3.49783479 -3.52174666 -3.5392578  -3.50981421 -3.47406281\n",
      "  0.70381439 -3.55385406 -3.54958164 -3.54638231  0.97477477 -3.06108141\n",
      "  0.6913474  -3.68101483 -3.6886298   0.54142997 -3.66237026 -3.68463805\n",
      " -3.69329403 -3.68325133]\n"
     ]
    }
   ],
   "source": [
    "print dataUnrelaxed['un_TEPA']"
   ]
  },
  {
   "cell_type": "code",
   "execution_count": 11,
   "metadata": {},
   "outputs": [
    {
     "name": "stdout",
     "output_type": "stream",
     "text": [
      "[-3.36000003  0.63993119 -2.12955914 -2.21022098 -2.11166679 -2.12946969\n",
      " -2.05181141 -2.07058718 -2.21126149 -2.04679539 -0.19968292  0.31618946\n",
      " -3.59724847  0.55876965  0.53974678  0.45593504  0.0043758   0.74944001\n",
      "  0.91017938  0.79024367  0.97280722  0.22759226  0.84046449 -3.64156217\n",
      "  0.53109285  0.79733622 -3.65473487 -3.6915609  -3.69332649 -3.68651417\n",
      "  0.54462246 -3.49783479 -3.52174666 -3.5392578  -3.50981421 -3.47406281\n",
      "  0.70381439 -3.55385406 -3.54958164 -3.54638231  0.97477477 -3.06108141\n",
      "  0.6913474  -3.68101483 -3.6886298   0.54142997 -3.66237026 -3.68463805\n",
      " -3.69329403 -3.68325133]\n"
     ]
    }
   ],
   "source": [
    "print dataAll[\"un_TEPA\"]"
   ]
  },
  {
   "cell_type": "code",
   "execution_count": null,
   "metadata": {
    "collapsed": true
   },
   "outputs": [],
   "source": []
  }
 ],
 "metadata": {
  "kernelspec": {
   "display_name": "Python 2",
   "language": "python",
   "name": "python2"
  },
  "language_info": {
   "codemirror_mode": {
    "name": "ipython",
    "version": 2
   },
   "file_extension": ".py",
   "mimetype": "text/x-python",
   "name": "python",
   "nbconvert_exporter": "python",
   "pygments_lexer": "ipython2",
   "version": "2.7.13"
  }
 },
 "nbformat": 4,
 "nbformat_minor": 2
}
