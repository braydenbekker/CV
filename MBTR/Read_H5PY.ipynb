{
 "cells": [
  {
   "cell_type": "markdown",
   "metadata": {},
   "source": [
    "# Read from the Existing HDF5 file "
   ]
  },
  {
   "cell_type": "code",
   "execution_count": 1,
   "metadata": {
    "collapsed": true
   },
   "outputs": [],
   "source": [
    "import numpy as np\n",
    "import h5py\n",
    "import os.path"
   ]
  },
  {
   "cell_type": "code",
   "execution_count": 2,
   "metadata": {
    "collapsed": true
   },
   "outputs": [],
   "source": [
    "#a = h5py.File(\"SystemEnergies.hdf5\", \"r+\")\n",
    "b = h5py.File(\"SystemEnergies.hdf5\", \"r+\")"
   ]
  },
  {
   "cell_type": "code",
   "execution_count": 3,
   "metadata": {},
   "outputs": [
    {
     "ename": "NameError",
     "evalue": "name 'a' is not defined",
     "output_type": "error",
     "traceback": [
      "\u001b[0;31m\u001b[0m",
      "\u001b[0;31mNameError\u001b[0mTraceback (most recent call last)",
      "\u001b[0;32m<ipython-input-3-c7549560fe70>\u001b[0m in \u001b[0;36m<module>\u001b[0;34m()\u001b[0m\n\u001b[0;32m----> 1\u001b[0;31m \u001b[0;32mfor\u001b[0m \u001b[0mname\u001b[0m \u001b[0;32min\u001b[0m \u001b[0ma\u001b[0m\u001b[0;34m:\u001b[0m\u001b[0;34m\u001b[0m\u001b[0m\n\u001b[0m\u001b[1;32m      2\u001b[0m     \u001b[0;32mprint\u001b[0m \u001b[0mname\u001b[0m\u001b[0;34m\u001b[0m\u001b[0m\n",
      "\u001b[0;31mNameError\u001b[0m: name 'a' is not defined"
     ]
    }
   ],
   "source": [
    "for name in a:\n",
    "    print name"
   ]
  },
  {
   "cell_type": "code",
   "execution_count": 4,
   "metadata": {},
   "outputs": [
    {
     "name": "stdout",
     "output_type": "stream",
     "text": [
      "AgCu\n",
      "AlCo\n",
      "AlFe\n",
      "AlMg\n",
      "AlNi\n",
      "AlPb\n",
      "AlSm\n",
      "AlTi\n",
      "CFe\n",
      "CoNi\n",
      "CuZr\n",
      "FeNi\n",
      "FeP\n",
      "FeV\n",
      "HPd\n",
      "NiNb\n",
      "NiZr\n"
     ]
    }
   ],
   "source": [
    "for name in b:\n",
    "    print name"
   ]
  },
  {
   "cell_type": "code",
   "execution_count": 25,
   "metadata": {
    "collapsed": true
   },
   "outputs": [],
   "source": [
    "arg1 = \"AlSm\"\n",
    "grp = a.create_group(\"%s\"%(arg1))\n",
    "structSet = grp.create_dataset(\"StructInfo\", data=b[\"%s/StructInfo\"%(arg1)][()])\n",
    "zSet = grp.create_dataset(\"Z\", data=b[\"%s/Z\"%(arg1)][()])\n",
    "posSet = grp.create_dataset(\"Position\", data=b[\"%s/Position\"%(arg1)][()])\n",
    "vecSet = grp.create_dataset(\"BasisVector\", data=b[\"%s/BasisVector\"%(arg1)][()])\n",
    "eneSet = grp.create_dataset(\"TotAtomEnergy\", data=b[\"%s/TotAtomEnergy\"%(arg1)][()])\n",
    "enthSet = grp.create_dataset(\"TotAtomEnthalpy\", data=b[\"%s/TotAtomEnthalpy\"%(arg1)][()])\n",
    "concSet = grp.create_dataset(\"Concentration\", data=b[\"%s/Concentration\"%(arg1)][()])\n",
    "#a.close()"
   ]
  },
  {
   "cell_type": "code",
   "execution_count": 26,
   "metadata": {
    "collapsed": true
   },
   "outputs": [],
   "source": [
    "a.close()\n",
    "b.close()"
   ]
  },
  {
   "cell_type": "code",
   "execution_count": 38,
   "metadata": {
    "collapsed": true
   },
   "outputs": [],
   "source": [
    "del a[\"NiNb\"]"
   ]
  },
  {
   "cell_type": "code",
   "execution_count": 8,
   "metadata": {},
   "outputs": [
    {
     "data": {
      "text/plain": [
       "array(['fcc/vasp.3498', 'fcc/vasp.28', 'fcc/vasp.5970', ...,\n",
       "       'hcp/vasp.4050', 'hcp/vasp.3415', 'hcp/vasp.5529'],\n",
       "      dtype='|S32')"
      ]
     },
     "execution_count": 8,
     "metadata": {},
     "output_type": "execute_result"
    }
   ],
   "source": [
    "b[\"AlCo/StructInfo\"][()]"
   ]
  },
  {
   "cell_type": "code",
   "execution_count": 28,
   "metadata": {},
   "outputs": [
    {
     "data": {
      "text/plain": [
       "array(['fcc/vasp.2889', 'fcc/vasp.1817', 'fcc/vasp.6299', ...,\n",
       "       'hcp/vasp.3283', 'hcp/vasp.3415', 'hcp/vasp.5529'],\n",
       "      dtype='|S32')"
      ]
     },
     "execution_count": 28,
     "metadata": {},
     "output_type": "execute_result"
    }
   ],
   "source": [
    "a[\"AlMg/StructInfo\"][()]"
   ]
  },
  {
   "cell_type": "code",
   "execution_count": 12,
   "metadata": {},
   "outputs": [
    {
     "name": "stdout",
     "output_type": "stream",
     "text": [
      "AgCu\n",
      "AgCu/BasisVector\n",
      "AgCu/Concentration\n",
      "AgCu/Position\n",
      "AgCu/StructInfo\n",
      "AgCu/TotAtomEnergy\n",
      "AgCu/TotAtomEnthalpy\n",
      "AgCu/Z\n",
      "AlCo\n",
      "AlCo/BasisVector\n",
      "AlCo/Concentration\n",
      "AlCo/Position\n",
      "AlCo/StructInfo\n",
      "AlCo/TotAtomEnergy\n",
      "AlCo/TotAtomEnthalpy\n",
      "AlCo/Z\n",
      "AlNi\n",
      "AlNi/BasisVector\n",
      "AlNi/Concentration\n",
      "AlNi/Position\n",
      "AlNi/StructInfo\n",
      "AlNi/TotAtomEnergy\n",
      "AlNi/TotAtomEnthalpy\n",
      "AlNi/Z\n",
      "AlPb\n",
      "AlPb/BasisVector\n",
      "AlPb/Concentration\n",
      "AlPb/Position\n",
      "AlPb/StructInfo\n",
      "AlPb/TotAtomEnergy\n",
      "AlPb/TotAtomEnthalpy\n",
      "AlPb/Z\n",
      "AlTi\n",
      "AlTi/BasisVector\n",
      "AlTi/Concentration\n",
      "AlTi/Position\n",
      "AlTi/StructInfo\n",
      "AlTi/TotAtomEnergy\n",
      "AlTi/TotAtomEnthalpy\n",
      "AlTi/Z\n",
      "CuFe\n",
      "CuFe/BasisVector\n",
      "CuFe/Concentration\n",
      "CuFe/Position\n",
      "CuFe/StructInfo\n",
      "CuFe/TotAtomEnergy\n",
      "CuFe/TotAtomEnthalpy\n",
      "CuFe/Z\n",
      "CuPb\n",
      "CuPb/BasisVector\n",
      "CuPb/Concentration\n",
      "CuPb/Position\n",
      "CuPb/StructInfo\n",
      "CuPb/TotAtomEnergy\n",
      "CuPb/TotAtomEnthalpy\n",
      "CuPb/Z\n",
      "HPd\n",
      "HPd/BasisVector\n",
      "HPd/Concentration\n",
      "HPd/Position\n",
      "HPd/StructInfo\n",
      "HPd/TotAtomEnergy\n",
      "HPd/TotAtomEnthalpy\n",
      "HPd/Z\n"
     ]
    }
   ],
   "source": [
    "def printname(name):\n",
    "    print name\n",
    "a.visit(printname)"
   ]
  },
  {
   "cell_type": "code",
   "execution_count": 9,
   "metadata": {},
   "outputs": [
    {
     "ename": "NameError",
     "evalue": "name 'a' is not defined",
     "output_type": "error",
     "traceback": [
      "\u001b[0;31m\u001b[0m",
      "\u001b[0;31mNameError\u001b[0mTraceback (most recent call last)",
      "\u001b[0;32m<ipython-input-9-ff89f37f7455>\u001b[0m in \u001b[0;36m<module>\u001b[0;34m()\u001b[0m\n\u001b[0;32m----> 1\u001b[0;31m \u001b[0ma\u001b[0m\u001b[0;34m[\u001b[0m\u001b[0;34m\"AlTi/Concentration\"\u001b[0m\u001b[0;34m]\u001b[0m\u001b[0;34m[\u001b[0m\u001b[0;34m(\u001b[0m\u001b[0;34m)\u001b[0m\u001b[0;34m]\u001b[0m\u001b[0;34m\u001b[0m\u001b[0m\n\u001b[0m",
      "\u001b[0;31mNameError\u001b[0m: name 'a' is not defined"
     ]
    }
   ],
   "source": [
    "a[\"AlTi/Concentration\"][()]"
   ]
  },
  {
   "cell_type": "code",
   "execution_count": 10,
   "metadata": {},
   "outputs": [
    {
     "data": {
      "text/plain": [
       "array([  0.        ,   0.        ,   0.        , ...,   0.        ,\n",
       "        10.10362957,   2.85773804])"
      ]
     },
     "execution_count": 10,
     "metadata": {},
     "output_type": "execute_result"
    }
   ],
   "source": [
    "b[\"AlTi/Position\"][]"
   ]
  },
  {
   "cell_type": "code",
   "execution_count": 55,
   "metadata": {},
   "outputs": [
    {
     "data": {
      "text/plain": [
       "array(['fcc/vasp.2889', 'fcc/vasp.1817', 'fcc/vasp.5296', ...,\n",
       "       'hcp/vasp.2949', 'hcp/vasp.5597', 'hcp/vasp.5529'],\n",
       "      dtype='|S32')"
      ]
     },
     "execution_count": 55,
     "metadata": {},
     "output_type": "execute_result"
    }
   ],
   "source": [
    "f[\"AlTi/StructInfo\"][()]"
   ]
  },
  {
   "cell_type": "code",
   "execution_count": 53,
   "metadata": {},
   "outputs": [
    {
     "data": {
      "text/plain": [
       "array([-3.05899238, -3.01001553, -3.07878366, ..., -1.1282434 ,\n",
       "       -1.15871327, -1.16313868])"
      ]
     },
     "execution_count": 53,
     "metadata": {},
     "output_type": "execute_result"
    }
   ],
   "source": [
    "f[\"AlTi/TotAtomEnergy\"][()]"
   ]
  },
  {
   "cell_type": "code",
   "execution_count": 54,
   "metadata": {},
   "outputs": [
    {
     "data": {
      "text/plain": [
       "array([ 0.10460392,  0.11594921,  0.11617228, ...,  2.1242052 ,\n",
       "        2.15122798,  2.14680258])"
      ]
     },
     "execution_count": 54,
     "metadata": {},
     "output_type": "execute_result"
    }
   ],
   "source": [
    "f[\"AlTi/TotAtomEnthalpy\"][()]"
   ]
  },
  {
   "cell_type": "code",
   "execution_count": 57,
   "metadata": {},
   "outputs": [
    {
     "data": {
      "text/plain": [
       "array([ 47.,  47.,  47., ...,  29.,  29.,  29.])"
      ]
     },
     "execution_count": 57,
     "metadata": {},
     "output_type": "execute_result"
    }
   ],
   "source": [
    "f[\"AlTi/Z\"][()]"
   ]
  },
  {
   "cell_type": "code",
   "execution_count": 21,
   "metadata": {
    "collapsed": true
   },
   "outputs": [],
   "source": [
    "a.close()"
   ]
  },
  {
   "cell_type": "code",
   "execution_count": null,
   "metadata": {
    "collapsed": true
   },
   "outputs": [],
   "source": []
  }
 ],
 "metadata": {
  "kernelspec": {
   "display_name": "Python 2",
   "language": "python",
   "name": "python2"
  },
  "language_info": {
   "codemirror_mode": {
    "name": "ipython",
    "version": 2
   },
   "file_extension": ".py",
   "mimetype": "text/x-python",
   "name": "python",
   "nbconvert_exporter": "python",
   "pygments_lexer": "ipython2",
   "version": "2.7.13"
  }
 },
 "nbformat": 4,
 "nbformat_minor": 2
}
